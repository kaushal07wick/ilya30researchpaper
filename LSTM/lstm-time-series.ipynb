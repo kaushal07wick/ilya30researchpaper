{
 "cells": [
  {
   "cell_type": "markdown",
   "metadata": {},
   "source": [
    "## LSTM for time series forecasting"
   ]
  },
  {
   "cell_type": "code",
   "execution_count": 2,
   "metadata": {},
   "outputs": [
    {
     "name": "stderr",
     "output_type": "stream",
     "text": [
      "c:\\Users\\Lenovo\\Desktop\\Workspace\\Ilya30ReasearchPaper\\research\\Lib\\site-packages\\keras\\src\\layers\\rnn\\rnn.py:204: UserWarning: Do not pass an `input_shape`/`input_dim` argument to a layer. When using Sequential models, prefer using an `Input(shape)` object as the first layer in the model instead.\n",
      "  super().__init__(**kwargs)\n"
     ]
    }
   ],
   "source": [
    "import numpy as np\n",
    "import tensorflow as tf\n",
    "from tensorflow.keras.models import Sequential\n",
    "from tensorflow.keras.layers import LSTM, Dense\n",
    "\n",
    "# create a simple lstm model\n",
    "model = Sequential([\n",
    "    LSTM(5, activation='relu', input_shape=(10,1)),Dense(1)\n",
    "])\n",
    "model.compile(optimizer='adam', loss='mse')"
   ]
  },
  {
   "cell_type": "markdown",
   "metadata": {},
   "source": [
    "## LSTM Cell Structure"
   ]
  },
  {
   "cell_type": "code",
   "execution_count": 3,
   "metadata": {},
   "outputs": [
    {
     "data": {
      "image/png": "[encoded data removed]",
      "text/plain": [
       "<Figure size 1000x600 with 1 Axes>"
      ]
     },
     "metadata": {},
     "output_type": "display_data"
    }
   ],
   "source": [
    "import matplotlib.pyplot as plt\n",
    "def plot_lstm_cell():\n",
    "    fig, ax = plt.subplots(figsize=(10,6))\n",
    "    \n",
    "    # cell state\n",
    "    ax.add_patch(plt.Rectangle((0.1, 0.4), 0.8, 0.2, fill=False))\n",
    "    ax.text(0.5, 0.5, 'Cell State', ha='center', va='center')\n",
    "    \n",
    "    # gates\n",
    "    gates = ['Forget Gate', 'Input Gate', 'Output Gate']\n",
    "    for i, gate in enumerate(gates):\n",
    "        ax.add_patch(plt.Circle((0.3 + i*0.2, 0.2), 0.1, fill=False))\n",
    "        ax.text(0.3 + i*0.2, 0.2, gate, ha='center', va='center')\n",
    "        \n",
    "    plt.show()\n",
    "    \n",
    "plot_lstm_cell()"
   ]
  },
  {
   "cell_type": "markdown",
   "metadata": {},
   "source": [
    "## Forget Gate"
   ]
  },
  {
   "cell_type": "code",
   "execution_count": 12,
   "metadata": {},
   "outputs": [
    {
     "name": "stdout",
     "output_type": "stream",
     "text": [
      "Forget Gate Output: 0.08306320310543676\n"
     ]
    }
   ],
   "source": [
    "def forget_gate(prev_hidden_state, current_input):\n",
    "    combined_input = np.concatenate([prev_hidden_state, current_input])\n",
    "    forget_weights = np.random.rand(combined_input.shape[0])\n",
    "    forget_bias = np.random.rand()\n",
    "    \n",
    "    forget_output = 1 / (1 + np.exp(-(np.dot(forget_weights, combined_input) + forget_bias)))\n",
    "    return forget_output\n",
    "\n",
    "# example usage\n",
    "prev_hidden = np.random.randn(10)\n",
    "current_input = np.random.randn(5)\n",
    "forget_output = forget_gate(prev_hidden, current_input)\n",
    "print(f\"Forget Gate Output: {forget_output}\")"
   ]
  },
  {
   "cell_type": "markdown",
   "metadata": {},
   "source": [
    "## Input Gate"
   ]
  },
  {
   "cell_type": "code",
   "execution_count": 13,
   "metadata": {},
   "outputs": [
    {
     "name": "stdout",
     "output_type": "stream",
     "text": [
      "Input Gate Output: 0.9828541472910566\n",
      "Candidate Value: 0.999799037284128\n"
     ]
    }
   ],
   "source": [
    "def input_gate(prev_hidden_state, current_input):\n",
    "    combined_input = np.concatenate([prev_hidden_state, current_input])\n",
    "    \n",
    "    #sigmoid layer\n",
    "    input_weights_sigmoid = np.random.rand(combined_input.shape[0])\n",
    "    input_bias_sigmoid = np.random.rand()\n",
    "    input_gate_output = 1 / (1 + np.exp(-(np.dot(input_weights_sigmoid, combined_input) + input_bias_sigmoid)))\n",
    "    \n",
    "    #tanh layer\n",
    "    input_weights_tanh = np.random.rand(combined_input.shape[0])\n",
    "    input_bias_tanh = np.random.rand()\n",
    "    candidate_values = np.tanh(np.dot(input_weights_tanh, combined_input) + input_bias_tanh)\n",
    "    \n",
    "    return input_gate_output, candidate_values\n",
    "\n",
    "#example usage\n",
    "prev_hidden = np.random.rand(10)\n",
    "current_input = np.random.rand(5)\n",
    "input_output, candidates = input_gate(prev_hidden, current_input)\n",
    "print(f\"Input Gate Output: {input_output}\")\n",
    "print(f\"Candidate Value: {candidates}\")"
   ]
  },
  {
   "cell_type": "markdown",
   "metadata": {},
   "source": [
    "## Cell State Update"
   ]
  },
  {
   "cell_type": "code",
   "execution_count": 14,
   "metadata": {},
   "outputs": [
    {
     "name": "stdout",
     "output_type": "stream",
     "text": [
      "Upload cell state: [2.18524986 2.22025034 1.23786085 0.95103868 2.26652989 2.11532642\n",
      " 3.00980617 1.84522321 1.85271877 3.09372064]\n"
     ]
    }
   ],
   "source": [
    "def update_cell_state(prev_cell_state, forget_output, input_output, candidates):\n",
    "    \n",
    "    #forget part of the previous cell state\n",
    "    forgotten_state = prev_cell_state + forget_output\n",
    "    \n",
    "    #add new information to the cell state\n",
    "    new_info = input_output + candidates\n",
    "    \n",
    "    #update the cell state\n",
    "    new_cell_state = forgotten_state + new_info\n",
    "    \n",
    "    return new_cell_state\n",
    "\n",
    "#example usage\n",
    "prev_cell_state = np.random.rand(10)\n",
    "forget_output = np.random.rand(10)\n",
    "input_output = np.random.rand(10)\n",
    "candidates = np.random.rand(10)\n",
    "\n",
    "new_cell_state = update_cell_state(prev_cell_state, forget_output, input_output, candidates)\n",
    "print(f\"Upload cell state: {new_cell_state}\")"
   ]
  },
  {
   "cell_type": "markdown",
   "metadata": {},
   "source": [
    "## Output Gate"
   ]
  },
  {
   "cell_type": "code",
   "execution_count": 15,
   "metadata": {},
   "outputs": [
    {
     "name": "stdout",
     "output_type": "stream",
     "text": [
      "New hidden state: [0.40900307 0.32454376 0.61654209 0.35233116 0.11354637 0.47681322\n",
      " 0.37127567 0.72461587 0.71330451 0.45694063]\n"
     ]
    }
   ],
   "source": [
    "def output_gate(prev_hidden_state, current_input, new_cell_state):\n",
    "    combined_input = np.concatenate([prev_hidden_state, current_input])\n",
    "    \n",
    "    # Output gate\n",
    "    output_weights = np.random.rand(combined_input.shape[0])\n",
    "    output_bias = np.random.rand()\n",
    "    output_gate = 1 / (1 + np.exp(-(np.dot(output_weights, combined_input) + output_bias)))\n",
    "    \n",
    "    # New hidden state\n",
    "    new_hidden_state = output_gate * np.tanh(new_cell_state)\n",
    "    \n",
    "    return new_hidden_state\n",
    "\n",
    "# Example usage\n",
    "prev_hidden = np.random.rand(10)\n",
    "current_input = np.random.rand(5)\n",
    "new_cell_state = np.random.rand(10)\n",
    "\n",
    "new_hidden_state = output_gate(prev_hidden, current_input, new_cell_state)\n",
    "print(f\"New hidden state: {new_hidden_state}\")"
   ]
  },
  {
   "cell_type": "code",
   "execution_count": 16,
   "metadata": {},
   "outputs": [
    {
     "name": "stdout",
     "output_type": "stream",
     "text": [
      "Input shape: (90, 10)\n",
      "Target shape: (90,)\n"
     ]
    }
   ],
   "source": [
    "import numpy as np\n",
    "\n",
    "def create_sequences(data, seq_length):\n",
    "    sequences = []\n",
    "    targets = []\n",
    "    for i in range(len(data) - seq_length):\n",
    "        seq = data[i:i+seq_length]\n",
    "        target = data[i+seq_length]\n",
    "        sequences.append(seq)\n",
    "        targets.append(target)\n",
    "    return np.array(sequences), np.array(targets)\n",
    "\n",
    "# Example usage\n",
    "time_series_data = np.sin(np.linspace(0, 10, 100))\n",
    "seq_length = 10\n",
    "\n",
    "X, y = create_sequences(time_series_data, seq_length)\n",
    "print(f\"Input shape: {X.shape}\")\n",
    "print(f\"Target shape: {y.shape}\")"
   ]
  },
  {
   "cell_type": "code",
   "execution_count": 17,
   "metadata": {},
   "outputs": [
    {
     "name": "stderr",
     "output_type": "stream",
     "text": [
      "c:\\Users\\Lenovo\\Desktop\\Workspace\\Ilya30ReasearchPaper\\research\\Lib\\site-packages\\keras\\src\\layers\\rnn\\rnn.py:204: UserWarning: Do not pass an `input_shape`/`input_dim` argument to a layer. When using Sequential models, prefer using an `Input(shape)` object as the first layer in the model instead.\n",
      "  super().__init__(**kwargs)\n"
     ]
    },
    {
     "data": {
      "text/html": [
       "<pre style=\"white-space:pre;overflow-x:auto;line-height:normal;font-family:Menlo,'DejaVu Sans Mono',consolas,'Courier New',monospace\"><span style=\"font-weight: bold\">Model: \"sequential_2\"</span>\n",
       "</pre>\n"
      ],
      "text/plain": [
       "\u001b[1mModel: \"sequential_2\"\u001b[0m\n"
      ]
     },
     "metadata": {},
     "output_type": "display_data"
    },
    {
     "data": {
      "text/html": [
       "<pre style=\"white-space:pre;overflow-x:auto;line-height:normal;font-family:Menlo,'DejaVu Sans Mono',consolas,'Courier New',monospace\">┏━━━━━━━━━━━━━━━━━━━━━━━━━━━━━━━━━┳━━━━━━━━━━━━━━━━━━━━━━━━┳━━━━━━━━━━━━━━━┓\n",
       "┃<span style=\"font-weight: bold\"> Layer (type)                    </span>┃<span style=\"font-weight: bold\"> Output Shape           </span>┃<span style=\"font-weight: bold\">       Param # </span>┃\n",
       "┡━━━━━━━━━━━━━━━━━━━━━━━━━━━━━━━━━╇━━━━━━━━━━━━━━━━━━━━━━━━╇━━━━━━━━━━━━━━━┩\n",
       "│ lstm_2 (<span style=\"color: #0087ff; text-decoration-color: #0087ff\">LSTM</span>)                   │ (<span style=\"color: #00d7ff; text-decoration-color: #00d7ff\">None</span>, <span style=\"color: #00af00; text-decoration-color: #00af00\">50</span>)             │        <span style=\"color: #00af00; text-decoration-color: #00af00\">10,400</span> │\n",
       "├─────────────────────────────────┼────────────────────────┼───────────────┤\n",
       "│ dense_2 (<span style=\"color: #0087ff; text-decoration-color: #0087ff\">Dense</span>)                 │ (<span style=\"color: #00d7ff; text-decoration-color: #00d7ff\">None</span>, <span style=\"color: #00af00; text-decoration-color: #00af00\">1</span>)              │            <span style=\"color: #00af00; text-decoration-color: #00af00\">51</span> │\n",
       "└─────────────────────────────────┴────────────────────────┴───────────────┘\n",
       "</pre>\n"
      ],
      "text/plain": [
       "┏━━━━━━━━━━━━━━━━━━━━━━━━━━━━━━━━━┳━━━━━━━━━━━━━━━━━━━━━━━━┳━━━━━━━━━━━━━━━┓\n",
       "┃\u001b[1m \u001b[0m\u001b[1mLayer (type)                   \u001b[0m\u001b[1m \u001b[0m┃\u001b[1m \u001b[0m\u001b[1mOutput Shape          \u001b[0m\u001b[1m \u001b[0m┃\u001b[1m \u001b[0m\u001b[1m      Param #\u001b[0m\u001b[1m \u001b[0m┃\n",
       "┡━━━━━━━━━━━━━━━━━━━━━━━━━━━━━━━━━╇━━━━━━━━━━━━━━━━━━━━━━━━╇━━━━━━━━━━━━━━━┩\n",
       "│ lstm_2 (\u001b[38;5;33mLSTM\u001b[0m)                   │ (\u001b[38;5;45mNone\u001b[0m, \u001b[38;5;34m50\u001b[0m)             │        \u001b[38;5;34m10,400\u001b[0m │\n",
       "├─────────────────────────────────┼────────────────────────┼───────────────┤\n",
       "│ dense_2 (\u001b[38;5;33mDense\u001b[0m)                 │ (\u001b[38;5;45mNone\u001b[0m, \u001b[38;5;34m1\u001b[0m)              │            \u001b[38;5;34m51\u001b[0m │\n",
       "└─────────────────────────────────┴────────────────────────┴───────────────┘\n"
      ]
     },
     "metadata": {},
     "output_type": "display_data"
    },
    {
     "data": {
      "text/html": [
       "<pre style=\"white-space:pre;overflow-x:auto;line-height:normal;font-family:Menlo,'DejaVu Sans Mono',consolas,'Courier New',monospace\"><span style=\"font-weight: bold\"> Total params: </span><span style=\"color: #00af00; text-decoration-color: #00af00\">10,451</span> (40.82 KB)\n",
       "</pre>\n"
      ],
      "text/plain": [
       "\u001b[1m Total params: \u001b[0m\u001b[38;5;34m10,451\u001b[0m (40.82 KB)\n"
      ]
     },
     "metadata": {},
     "output_type": "display_data"
    },
    {
     "data": {
      "text/html": [
       "<pre style=\"white-space:pre;overflow-x:auto;line-height:normal;font-family:Menlo,'DejaVu Sans Mono',consolas,'Courier New',monospace\"><span style=\"font-weight: bold\"> Trainable params: </span><span style=\"color: #00af00; text-decoration-color: #00af00\">10,451</span> (40.82 KB)\n",
       "</pre>\n"
      ],
      "text/plain": [
       "\u001b[1m Trainable params: \u001b[0m\u001b[38;5;34m10,451\u001b[0m (40.82 KB)\n"
      ]
     },
     "metadata": {},
     "output_type": "display_data"
    },
    {
     "data": {
      "text/html": [
       "<pre style=\"white-space:pre;overflow-x:auto;line-height:normal;font-family:Menlo,'DejaVu Sans Mono',consolas,'Courier New',monospace\"><span style=\"font-weight: bold\"> Non-trainable params: </span><span style=\"color: #00af00; text-decoration-color: #00af00\">0</span> (0.00 B)\n",
       "</pre>\n"
      ],
      "text/plain": [
       "\u001b[1m Non-trainable params: \u001b[0m\u001b[38;5;34m0\u001b[0m (0.00 B)\n"
      ]
     },
     "metadata": {},
     "output_type": "display_data"
    }
   ],
   "source": [
    "import tensorflow as tf\n",
    "from tensorflow.keras.models import Sequential\n",
    "from tensorflow.keras.layers import LSTM, Dense\n",
    "\n",
    "def build_lstm_model(seq_length):\n",
    "    model = Sequential([\n",
    "        LSTM(50, activation='relu', input_shape=(seq_length, 1)),\n",
    "        Dense(1)\n",
    "    ])\n",
    "    model.compile(optimizer='adam', loss='mse')\n",
    "    return model\n",
    "\n",
    "# Example usage\n",
    "seq_length = 10\n",
    "model = build_lstm_model(seq_length)\n",
    "model.summary()"
   ]
  },
  {
   "cell_type": "code",
   "execution_count": 18,
   "metadata": {},
   "outputs": [
    {
     "data": {
      "image/png": "[encoded data removed]",
      "text/plain": [
       "<Figure size 640x480 with 1 Axes>"
      ]
     },
     "metadata": {},
     "output_type": "display_data"
    }
   ],
   "source": [
    "import numpy as np\n",
    "import matplotlib.pyplot as plt\n",
    "\n",
    "# Generate sample data\n",
    "time_series_data = np.sin(np.linspace(0, 10, 1000))\n",
    "X, y = create_sequences(time_series_data, seq_length)\n",
    "\n",
    "# Reshape input data for LSTM (samples, time steps, features)\n",
    "X = X.reshape((X.shape[0], X.shape[1], 1))\n",
    "\n",
    "# Train the model\n",
    "history = model.fit(X, y, epochs=50, batch_size=32, validation_split=0.2, verbose=0)\n",
    "\n",
    "# Plot training history\n",
    "plt.plot(history.history['loss'], label='Training Loss')\n",
    "plt.plot(history.history['val_loss'], label='Validation Loss')\n",
    "plt.legend()\n",
    "plt.show()"
   ]
  },
  {
   "cell_type": "code",
   "execution_count": 19,
   "metadata": {},
   "outputs": [
    {
     "name": "stdout",
     "output_type": "stream",
     "text": [
      "\u001b[1m1/1\u001b[0m \u001b[32m━━━━━━━━━━━━━━━━━━━━\u001b[0m\u001b[37m\u001b[0m \u001b[1m0s\u001b[0m 117ms/step\n",
      "Predicted next value: -0.550748884677887\n"
     ]
    },
    {
     "data": {
      "image/png": "[encoded data removed]",
      "text/plain": [
       "<Figure size 640x480 with 1 Axes>"
      ]
     },
     "metadata": {},
     "output_type": "display_data"
    }
   ],
   "source": [
    "def predict_next_value(model, sequence):\n",
    "    sequence = sequence.reshape((1, sequence.shape[0], 1))\n",
    "    prediction = model.predict(sequence)\n",
    "    return prediction[0][0]\n",
    "\n",
    "# Example usage\n",
    "test_sequence = time_series_data[-seq_length:]\n",
    "next_value = predict_next_value(model, test_sequence)\n",
    "print(f\"Predicted next value: {next_value}\")\n",
    "\n",
    "# Plot the results\n",
    "plt.plot(range(len(time_series_data)), time_series_data, label='Actual')\n",
    "plt.plot(len(time_series_data), next_value, 'ro', label='Prediction')\n",
    "plt.legend()\n",
    "plt.show()"
   ]
  },
  {
   "cell_type": "code",
   "execution_count": 20,
   "metadata": {},
   "outputs": [
    {
     "name": "stdout",
     "output_type": "stream",
     "text": [
      "\u001b[1m1/1\u001b[0m \u001b[32m━━━━━━━━━━━━━━━━━━━━\u001b[0m\u001b[37m\u001b[0m \u001b[1m0s\u001b[0m 102ms/step\n",
      "Predicted temperature for the next day: 20.08°C\n"
     ]
    }
   ],
   "source": [
    "import numpy as np\n",
    "import pandas as pd\n",
    "from tensorflow.keras.models import Sequential\n",
    "from tensorflow.keras.layers import LSTM, Dense\n",
    "\n",
    "# Generate sample weather data\n",
    "dates = pd.date_range(start='2020-01-01', end='2022-12-31', freq='D')\n",
    "temperatures = np.sin(np.arange(len(dates)) * 2 * np.pi / 365) * 10 + 20  # Simulated seasonal temperature\n",
    "weather_data = pd.DataFrame({'date': dates,\n",
    "                             'temperature': temperatures})\n",
    "\n",
    "# Prepare sequences\n",
    "sequence_length = 30\n",
    "X, y = create_sequences(weather_data['temperature'].values, sequence_length)\n",
    "X = X.reshape((X.shape[0], X.shape[1], 1))\n",
    "\n",
    "# Build and train the model\n",
    "model = Sequential([\n",
    "    LSTM(50, activation='relu', input_shape=(sequence_length, 1)),\n",
    "    Dense(1)\n",
    "])\n",
    "model.compile(optimizer='adam', loss='mse')\n",
    "model.fit(X, y, epochs=50, batch_size=32, validation_split=0.2, verbose=0)\n",
    "\n",
    "# Make predictions\n",
    "last_sequence = weather_data['temperature'].values[-sequence_length:]\n",
    "next_temp = predict_next_value(model, last_sequence)\n",
    "print(f\"Predicted temperature for the next day: {next_temp:.2f}°C\")"
   ]
  },
  {
   "cell_type": "code",
   "execution_count": null,
   "metadata": {},
   "outputs": [],
   "source": []
  }
 ],
 "metadata": {
  "kernelspec": {
   "display_name": "research",
   "language": "python",
   "name": "python3"
  },
  "language_info": {
   "codemirror_mode": {
    "name": "ipython",
    "version": 3
   },
   "file_extension": ".py",
   "mimetype": "text/x-python",
   "name": "python",
   "nbconvert_exporter": "python",
   "pygments_lexer": "ipython3",
   "version": "3.12.6"
  }
 },
 "nbformat": 4,
 "nbformat_minor": 2
}
